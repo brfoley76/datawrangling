{
 "cells": [
  {
   "cell_type": "code",
   "execution_count": null,
   "metadata": {},
   "outputs": [],
   "source": [
    "%matplotlib inline\n",
    "import matplotlib\n",
    "import seaborn as sns\n",
    "sns.set()\n",
    "matplotlib.rcParams['figure.dpi'] = 144"
   ]
  },
  {
   "cell_type": "markdown",
   "metadata": {},
   "source": [
    "# Debugging\n"
   ]
  },
  {
   "cell_type": "markdown",
   "metadata": {},
   "source": [
    "One of the most challenging things we'll need to do as a programmer is debugging. Debugging requires us to understand (sometimes cryptic) error messages and use stack trace to find where an error in our code might occur, but more crucially it requires us to have a critical understanding of what our code is doing or attempting to do and how it interacts with its environment.\n",
    "\n",
    "Let's review some common types of errors and understand how we would debug them. We can then apply these principals more broadly.\n",
    "\n",
    "(Note: We're going to use the magic command `%%expect_exception` to make our notebook run nicely even though we will be encountering errors. It is not important to debugging.)"
   ]
  },
  {
   "cell_type": "code",
   "execution_count": null,
   "metadata": {},
   "outputs": [],
   "source": [
    "import expectexception"
   ]
  },
  {
   "cell_type": "markdown",
   "metadata": {},
   "source": [
    "## NameError"
   ]
  },
  {
   "cell_type": "code",
   "execution_count": null,
   "metadata": {},
   "outputs": [],
   "source": [
    "%%expect_exception NameError\n",
    "\n",
    "x = 2\n",
    "print xx"
   ]
  },
  {
   "cell_type": "markdown",
   "metadata": {},
   "source": [
    "The error message is the last printed line. It's the first place to go to spot an error. In this case knowing that it's a \n",
    "```\n",
    "NameError\n",
    "```\n",
    "\n",
    "helps give a clue to what's going on. To boot, there's the helpful message\n",
    "\n",
    "```\n",
    "name 'xx' is not defined\n",
    "```\n",
    "\n",
    "where the variable name `xx` is a dead giveaway. We never assigned a variable called `xx`, only `x`. A `NameError` usually means you have tried to reference a variable or function ([some _name_ in your _namespace_](http://sebastianraschka.com/Articles/2014_python_scope_and_namespaces.html#introduction-to-namespaces-and-scopes)) that you haven't defined."
   ]
  },
  {
   "cell_type": "code",
   "execution_count": null,
   "metadata": {},
   "outputs": [],
   "source": [
    "# NameError is usually easy to fix\n",
    "x = 2\n",
    "print x # not xx"
   ]
  },
  {
   "cell_type": "markdown",
   "metadata": {},
   "source": [
    "This can happen easily in Jupyter notebooks where code is spread across different cells. Make sure to execute cells in the right order, so that any object you use in a particular cell is up-to-date."
   ]
  },
  {
   "cell_type": "markdown",
   "metadata": {},
   "source": [
    "## TypeError"
   ]
  },
  {
   "cell_type": "code",
   "execution_count": null,
   "metadata": {},
   "outputs": [],
   "source": [
    "%%expect_exception TypeError\n",
    "\n",
    "a = 10\n",
    "b = \"20\"\n",
    "a + b"
   ]
  },
  {
   "cell_type": "markdown",
   "metadata": {},
   "source": [
    "Error messages are not always simple. For example, the above error reads\n",
    "\n",
    "```\n",
    "TypeError: unsupported operand type(s) for +: 'int' and 'str'\n",
    "```\n",
    "\n",
    "However, we have additional information in the `Traceback`. Python also displays a stack trace leading to the line that triggered the error (in this case `a + b`). Looking at this section of code and the error message we realize\n",
    "- `a` is an `int`\n",
    "- `b` is a `str`\n",
    "- Python can't add `int` to `str`\n",
    "\n",
    "Obviously, we meant to add two integers, not an int and a string. We could imagine a few ways to fix this."
   ]
  },
  {
   "cell_type": "code",
   "execution_count": null,
   "metadata": {},
   "outputs": [],
   "source": [
    "# get the type right in the first place\n",
    "a = 10\n",
    "b = 20\n",
    "a + b"
   ]
  },
  {
   "cell_type": "code",
   "execution_count": null,
   "metadata": {},
   "outputs": [],
   "source": [
    "# recast the string\n",
    "a = 10\n",
    "b = \"20\"\n",
    "a + int(b)"
   ]
  },
  {
   "cell_type": "markdown",
   "metadata": {},
   "source": [
    "We'll often face some ambiguity with debugging, and will have to choose a solution that seems best suited to the context of our program. The first solution seems best as long as `b` being an `int` is not an issue. However, maybe we've extracted a value from user input in a text field. Then it might be natural for `b` to be a string at some stage, and we would have to recast it. When debugging, think about where objects originate in your code, and what other objects they might interact with later on."
   ]
  },
  {
   "cell_type": "markdown",
   "metadata": {},
   "source": [
    "## AttributeError"
   ]
  },
  {
   "cell_type": "code",
   "execution_count": null,
   "metadata": {},
   "outputs": [],
   "source": [
    "%%expect_exception AttributeError\n",
    "\n",
    "import pandas as pd\n",
    "\n",
    "df = pd.DataFrame({\n",
    "  'A': [0] * 5 + [1] * 5,\n",
    "  'B': range(10)\n",
    "})\n",
    "\n",
    "df.group_by('A')['B'].mean()"
   ]
  },
  {
   "cell_type": "markdown",
   "metadata": {},
   "source": [
    "The error message in this case includes a stack trace with multiple levels. We'll want to be able to read the entire stack trace to understand the set of function calls that lead to this error. In general, the error messages go through the call stack as thus:\n",
    "\n",
    "0. The first line of the stack trace is the highest level call that initiated everything (this will be the immediate code you were executing)\n",
    "1. Subsequent calls go down a level iteratively,\n",
    "2. The last function call is the one that encountered an error\n",
    "\n",
    "This is particularly useful when working with libraries, which might have several layers of unfamiliar code. In this stack track, we see the error originates with our call `df.group_by('A')['B'].mean()` and terminates somewhere in the Pandas library. In addition, we have an error message saying \n",
    "\n",
    "```\n",
    "AttributeError: 'DataFrame' object has no attribute 'group_by'\n",
    "```\n",
    "\n",
    "which is a sign that we are not using a `DataFrame` correctly. Which `DataFrame`? We can see that by looking at the top of the stack trace that we're talking about the `DataFrame` `df`, which can help identify the issue. The `DataFrame` object has no attribute or method called `group_by`. In this case, we simply mispelled the `groupby` method.\n",
    "\n",
    "We can check which attributes and methods are available by checking the [Pandas DataFrame documentation](https://pandas.pydata.org/pandas-docs/stable/generated/pandas.DataFrame.html). Reading documentation is often an important part of debugging, since it describes how to use libraries and modules that we didn't write ourselves."
   ]
  },
  {
   "cell_type": "code",
   "execution_count": null,
   "metadata": {},
   "outputs": [],
   "source": [
    "import pandas as pd\n",
    "\n",
    "df = pd.DataFrame({\n",
    "  'A': [0] * 5 + [1] * 5,\n",
    "  'B': range(10)\n",
    "})\n",
    "\n",
    "df.groupby('A')['B'].mean()"
   ]
  },
  {
   "cell_type": "markdown",
   "metadata": {},
   "source": [
    "## KeyError"
   ]
  },
  {
   "cell_type": "code",
   "execution_count": null,
   "metadata": {},
   "outputs": [],
   "source": [
    "%%expect_exception KeyError\n",
    "\n",
    "df.groupby('A')['BB'].sum()"
   ]
  },
  {
   "cell_type": "markdown",
   "metadata": {},
   "source": [
    "Errors are sometimes even more cryptic. For example, what does \n",
    "```\n",
    "KeyError: 'Column not found: BB'\n",
    "```\n",
    "mean? It's not clear what 'KeyError' means and 'Column not found' doesn't give a full explanatory context. But by looking at the stack trace, we see the error occurred with a call to a DataFrame `df`. In the call we select a column `'BB'`. Now the error message makes sense: the column we tried to select doesn't exist.\n",
    "\n",
    "When we try to index something using keys (e.g. `dict`, `DataFrame`, `Series`) and the key isn't in the object we're indexing, we will encounter a `KeyError`. In this case, our error is again a simple misspelling, which will often be the case with `KeyError`."
   ]
  },
  {
   "cell_type": "code",
   "execution_count": null,
   "metadata": {},
   "outputs": [],
   "source": [
    "df.groupby('A')['B'].sum()"
   ]
  },
  {
   "cell_type": "markdown",
   "metadata": {},
   "source": [
    "## Reading code critically"
   ]
  },
  {
   "cell_type": "code",
   "execution_count": null,
   "metadata": {},
   "outputs": [],
   "source": [
    "%%expect_exception AttributeError\n",
    "\n",
    "df.groupby('A')['B'].average()"
   ]
  },
  {
   "cell_type": "markdown",
   "metadata": {},
   "source": [
    "You won't always understand everything in an error message. For example, in \n",
    "```\n",
    "AttributeError: 'SeriesGroupBy' object has no attribute 'average'\n",
    "```\n",
    "what is a `SeriesGroupBy`? The stack trace doesn't make it any more clear. But it's clear that we're talking about `average`, so it's reasonable to guess that we need to use `mean` instead of `average`. We might also see if we can find some documentation on `SeriesGroupBy` (the stack trace tells us it's part of Pandas) or searching [Stack Overflow](https://stackoverflow.com/) to see if someone has a similar issue (if no one has, add your question!)."
   ]
  },
  {
   "cell_type": "code",
   "execution_count": null,
   "metadata": {},
   "outputs": [],
   "source": [
    "df.groupby('A')['B'].mean()"
   ]
  },
  {
   "cell_type": "markdown",
   "metadata": {},
   "source": [
    "Often debugging will involve using context clues from the error message or checking documentation to understand the issue. Because context is so important, it helps to read your code critically, and try to translate what your code is doing into plain language that you could explain to someone else (and actually explain it to someone else, even if it's only a [rubber duck](https://en.wikipedia.org/wiki/Rubber_duck_debugging)). Beginning programmers particularly get tripped up on things like variable and function [_scope_](https://en.wikipedia.org/wiki/Scope_%28computer_science%29), a language's [_syntax_](IW_Python_Basic_Syntax.ipynb), or following the logic of conditionals or iteration. Use tools like diagrams to help plan and understand your code.\n",
    "\n",
    "For more about error messages and tools for dealing with them, see the [Exceptions notebook](IW_Exceptions.ipynb)."
   ]
  },
  {
   "cell_type": "markdown",
   "metadata": {},
   "source": [
    "*Copyright &copy; 2017 The Data Incubator.  All rights reserved.*"
   ]
  }
 ],
 "metadata": {
  "kernelspec": {
   "display_name": "Python 2",
   "name": "python2"
  },
  "nbclean": true
 },
 "nbformat": 4,
 "nbformat_minor": 0
}
