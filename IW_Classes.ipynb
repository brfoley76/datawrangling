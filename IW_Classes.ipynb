{
 "cells": [
  {
   "cell_type": "code",
   "execution_count": null,
   "metadata": {},
   "outputs": [],
   "source": [
    "%matplotlib inline\n",
    "import matplotlib\n",
    "import seaborn as sns\n",
    "sns.set()\n",
    "matplotlib.rcParams['figure.dpi'] = 144"
   ]
  },
  {
   "cell_type": "code",
   "execution_count": null,
   "metadata": {},
   "outputs": [],
   "source": [
    "import expectexception"
   ]
  },
  {
   "cell_type": "markdown",
   "metadata": {},
   "source": [
    "# Object-oriented programming\n"
   ]
  },
  {
   "cell_type": "markdown",
   "metadata": {},
   "source": [
    "The are two concepts that are at the core of object-oriented programming: classes and objects.\n",
    "\n",
    "A **class** is a recipe for creating an object. It is like a template or set of instructions for creating multiple versions of similar things.\n",
    "\n",
    "An **object** is an instance of a class. That is, it is the result of following a class's recipe. \n",
    "\n",
    "Often your programs will have multiple object instances for a given class. These are all distinct and different, but they all follow the same recipe.\n",
    "\n",
    "We've actually encountered classes and objects quite a bit already. Consider the concepts of lists and dictionaries."
   ]
  },
  {
   "cell_type": "code",
   "execution_count": null,
   "metadata": {},
   "outputs": [],
   "source": [
    "dict1 = {'cat':1, 'dog': 2, 'human': 3}\n",
    "dict2 = {1: 1, 2: 4, 3: 9, 4: 16}\n",
    "\n",
    "list1 = [0, 80, 20, 60, 50, 40, 30, 70, 10, 90]\n",
    "list2 = ['milk', 'eggs', 'cheese', 'bread']"
   ]
  },
  {
   "cell_type": "markdown",
   "metadata": {},
   "source": [
    "We've just created two instances of the dictionary (`dict`) class and two instances of the list (`list`) class.\n",
    "\n",
    "We can examine these with the `type` function to show that they are in fact `dict`s and `list`s:"
   ]
  },
  {
   "cell_type": "code",
   "execution_count": null,
   "metadata": {},
   "outputs": [],
   "source": [
    "print 'dict1:', type(dict1)\n",
    "print 'dict2:', type(dict2)\n",
    "print 'list1:', type(list1)\n",
    "print 'list2:', type(list2)"
   ]
  },
  {
   "cell_type": "markdown",
   "metadata": {},
   "source": [
    "We can examine these with the `id` function to show that they point to different locations in memory and are therefore different objects:"
   ]
  },
  {
   "cell_type": "code",
   "execution_count": null,
   "metadata": {},
   "outputs": [],
   "source": [
    "print 'dict1:', id(dict1)\n",
    "print 'dict2:', id(dict2)\n",
    "print 'list1:', id(list1)\n",
    "print 'list2:', id(list2)"
   ]
  },
  {
   "cell_type": "markdown",
   "metadata": {},
   "source": [
    "The dictionaries `dict1` and `dict2` are two separate dictionaries storing different data, and yet they have similar properties as each other and behave in a similar manner. They both offer the same functionality for us to manipulate the data.\n",
    "\n",
    "The lists `list1` and `list2` are two separate lists, but also have similar properties and behaviors."
   ]
  },
  {
   "cell_type": "code",
   "execution_count": null,
   "metadata": {},
   "outputs": [],
   "source": [
    "print dict1.keys()\n",
    "print dict2.keys()\n",
    "\n",
    "print list1.index(70)\n",
    "print list2.index('bread')"
   ]
  },
  {
   "cell_type": "markdown",
   "metadata": {},
   "source": [
    "Lists and dictionaries are called *built-in* classes in that Python provides these to you by default. What we're going to learn about in this lesson is how to create our own classes to create multiple instances of objects with similar behaviors."
   ]
  },
  {
   "cell_type": "markdown",
   "metadata": {},
   "source": [
    "## Everything is an Object\n"
   ]
  },
  {
   "cell_type": "markdown",
   "metadata": {},
   "source": [
    "In your future Python studies you will sometimes hear the phrase \"Everything is an Object.\" What does this mean?\n",
    "\n",
    "First we must define what an object is. An object is the encapsulation or grouping of related data and/or methods (functions) into a self-contained thing (object) that exists in memory. Objects can be created, modified, passed around, copied, and destroyed.\n",
    "\n",
    "In Python, all of the *things* you work with are in fact objects, each with associated data and methods. Even *things* you might not expect, like functions. This might seem odd at first, but it actually creates an opportunity. It means that anything that is an object can be passed around as a parameter or assigned to a variable, just like any other object.\n",
    "\n",
    "The methods associated with an object are methods that are appropriate for acting upon the object's data. Consider a `list` object's methods.  They are a kind of natural collection of choices or options available to you to modify the list object. One of them is the `sort` method."
   ]
  },
  {
   "cell_type": "code",
   "execution_count": null,
   "metadata": {},
   "outputs": [],
   "source": [
    "list1.sort()\n",
    "list1"
   ]
  },
  {
   "cell_type": "markdown",
   "metadata": {},
   "source": [
    "This sorts the `list` object in-place, in that it sorts the original `list` object. It does not create a new `list` object with sorted data and leave the original `list` unaffected.\n",
    "\n",
    "I also could have sorted the `list` like this:"
   ]
  },
  {
   "cell_type": "code",
   "execution_count": null,
   "metadata": {},
   "outputs": [],
   "source": [
    "print sorted(list2)\n",
    "print list2"
   ]
  },
  {
   "cell_type": "markdown",
   "metadata": {},
   "source": [
    "Python comes with a standalone `sorted` method that can sort anything. It leaves the original `list` unaffected while creating a new sorted `list` object.\n",
    "\n",
    "Do you see the difference between the two approaches to sorting a list? One is with a function that is associated with the object, and the other, a free standing function not associated with the list.\n",
    "\n",
    "It happens that the `dict` objects do not have a `sort` method like `list`s. It doesn't fully make sense to sort a dictionary because they are unordered structure mapping keys to values. You can probably remember that a `dict` does not have a `sort` method, but what would Python be like if no object had methods? You'd have to remember which functions were appropriate for acting upon which objects and probably make a lot of mistakes. It would get confusing!"
   ]
  },
  {
   "cell_type": "markdown",
   "metadata": {},
   "source": [
    "## Defining a Python Class\n"
   ]
  },
  {
   "cell_type": "markdown",
   "metadata": {},
   "source": [
    "Let's start by defining a simple class:"
   ]
  },
  {
   "cell_type": "code",
   "execution_count": null,
   "metadata": {},
   "outputs": [],
   "source": [
    "class Point(object):\n",
    "    pass"
   ]
  },
  {
   "cell_type": "markdown",
   "metadata": {},
   "source": [
    "This defines a class called `Point`. This class could be called a dummy class in that it doesn't really do anything. As we will see later, most classes have more definitions inside of them. Here we have none, so we must use Python's `pass` statement. The `pass` statement is just a syntactic placeholder, indicating that nothing needs to be done. (The keyword `object` indicates that this is a \"new-style\" class, a distinction that you shouldn't worry about.)\n",
    "\n",
    "What is `Point`? It's a class, which is a kind of *type* in Python."
   ]
  },
  {
   "cell_type": "code",
   "execution_count": null,
   "metadata": {},
   "outputs": [],
   "source": [
    "Point, type(Point)"
   ]
  },
  {
   "cell_type": "markdown",
   "metadata": {},
   "source": [
    "To make objects of class `Point`, we *instantiate* the class.  In Python, we do that by calling the class. Observe the parentheses after `Point`."
   ]
  },
  {
   "cell_type": "code",
   "execution_count": null,
   "metadata": {},
   "outputs": [],
   "source": [
    "pt = Point()"
   ]
  },
  {
   "cell_type": "markdown",
   "metadata": {},
   "source": [
    "Now `pt` is an instance of the `Point` class."
   ]
  },
  {
   "cell_type": "code",
   "execution_count": null,
   "metadata": {},
   "outputs": [],
   "source": [
    "pt"
   ]
  },
  {
   "cell_type": "markdown",
   "metadata": {},
   "source": [
    "There are two ways to programmatically verify this:"
   ]
  },
  {
   "cell_type": "code",
   "execution_count": null,
   "metadata": {},
   "outputs": [],
   "source": [
    "print type(pt) is Point\n",
    "print isinstance(pt, Point)"
   ]
  },
  {
   "cell_type": "markdown",
   "metadata": {},
   "source": [
    "We can make more `Point`s by instantiating the class again. This results in the creation of different objects."
   ]
  },
  {
   "cell_type": "code",
   "execution_count": null,
   "metadata": {},
   "outputs": [],
   "source": [
    "pt2 = Point()\n",
    "pt3 = Point()"
   ]
  },
  {
   "cell_type": "markdown",
   "metadata": {},
   "source": [
    "We can use the Python built-in function `id` to show that the variables refer to different memory locations."
   ]
  },
  {
   "cell_type": "code",
   "execution_count": null,
   "metadata": {},
   "outputs": [],
   "source": [
    "print id(pt)\n",
    "print id(pt2)\n",
    "print id(pt3)"
   ]
  },
  {
   "cell_type": "markdown",
   "metadata": {},
   "source": [
    "## Adding Attributes and Methods"
   ]
  },
  {
   "cell_type": "markdown",
   "metadata": {},
   "source": [
    "Objects can have data associated with them.  These are called **attributes**, and in Python they are indicated with the `object.attribute` syntax.  Python allows arbitrary attributes to be added to objects on the fly."
   ]
  },
  {
   "cell_type": "code",
   "execution_count": null,
   "metadata": {},
   "outputs": [],
   "source": [
    "pt.banana = 5\n",
    "print pt.banana"
   ]
  },
  {
   "cell_type": "markdown",
   "metadata": {},
   "source": [
    "Now our point has 5 bananas.\n",
    "\n",
    "Note that this does not affect other objects of the same class. The `banana` attribute was added to only that one instance of the `Point` class."
   ]
  },
  {
   "cell_type": "code",
   "execution_count": null,
   "metadata": {},
   "outputs": [],
   "source": [
    "%%expect_exception AttributeError\n",
    "\n",
    "print pt2.banana"
   ]
  },
  {
   "cell_type": "markdown",
   "metadata": {},
   "source": [
    "Generally, we don't create attributes on an object-by-object basis. Instead, we create attributes in the class definition, so that we can guarantee that they will be there in all of our objects/instances of that class.\n",
    "\n",
    "Let's add functionality to our Point class. We want Point to allow us to create objects similar to mathematical points on a Cartesian grid. For now we'll work with just two dimensions, $x$ and $y$."
   ]
  },
  {
   "cell_type": "code",
   "execution_count": null,
   "metadata": {},
   "outputs": [],
   "source": [
    "class Point(object):\n",
    "    \"\"\"Cartesian point class capable of vector arithmetic.\"\"\"\n",
    "    \n",
    "    def __init__(self, x, y):\n",
    "        self.x = x\n",
    "        self.y = y"
   ]
  },
  {
   "cell_type": "markdown",
   "metadata": {},
   "source": [
    "When functions are defined within a class, these become **methods** of the class.  These methods are called with an `object.method()` syntax, parallel to the attributes. Let's add a method so we can add two points together using vector addition."
   ]
  },
  {
   "cell_type": "code",
   "execution_count": null,
   "metadata": {},
   "outputs": [],
   "source": [
    "class Point(object):\n",
    "    \"\"\"Cartesian point class capable of vector arithmetic.\"\"\"\n",
    "\n",
    "    def __init__(self, x, y):\n",
    "        self.x = x\n",
    "        self.y = y\n",
    "\n",
    "    def add(self, other):\n",
    "        \"\"\"Vector addition of Points, return new Point.\"\"\"\n",
    "        return Point(\n",
    "            self.x + other.x,\n",
    "            self.y + other.y\n",
    "        )"
   ]
  },
  {
   "cell_type": "markdown",
   "metadata": {},
   "source": [
    "Question: Why don't we `return self.x + other.x, self.y + other.y`? What other things could you imagine our `add` method doing?"
   ]
  },
  {
   "cell_type": "code",
   "execution_count": null,
   "metadata": {},
   "outputs": [],
   "source": [
    "pt1 = Point(3, 5)\n",
    "pt2 = Point(8, -3)\n",
    "pt3 = pt1.add(pt2)"
   ]
  },
  {
   "cell_type": "markdown",
   "metadata": {},
   "source": [
    "For the moment, let's consider just the call of `add`.  Why is it defined with a two arguments (`self` and `other`), but called with just one?  The first argument of a method call is always the object itself.  By convention, we call this argument `self`.  (`self` is actually *not* a keyword in Python.  But the convention is so strong, you'll never see another name used there!)  When you call `object.method(argument)`, behind the scenes, Python changes that to `Class.method(object, argument)`.  You can do that yourself, if you like:"
   ]
  },
  {
   "cell_type": "code",
   "execution_count": null,
   "metadata": {},
   "outputs": [],
   "source": [
    "pt4 = Point.add(pt1, pt2)\n",
    "\n",
    "print pt3.x, pt3.y\n",
    "print pt4.x, pt4.y"
   ]
  },
  {
   "cell_type": "markdown",
   "metadata": {},
   "source": [
    "A common programming mistake is to forget the `self` argument. If we had defined the `Point` class like this:\n",
    "    class Point(object):\n",
    "        \"\"\"Cartesian point class capable of vector arithmetic.\"\"\"\n",
    "        \n",
    "        def __init__(self, x, y):\n",
    "            self.x = x\n",
    "            self.y = y\n",
    "\n",
    "        def add(other):\n",
    "            \"\"\"Vector addition of Points, return new Point.\"\"\"\n",
    "            return Point(\n",
    "                self.x + other.x,\n",
    "                self.y + other.y\n",
    "            )\n",
    "        \n",
    "We would have seen this error:\n",
    "\n",
    "    ---------------------------------------------------------------------------\n",
    "    TypeError                                 Traceback (most recent call last)\n",
    "    <ipython-input-39-53c0be79a087> in <module>()\n",
    "          1 pt1 = Point(3, 5)\n",
    "          2 pt2 = Point(8, -3)\n",
    "    ----> 3 pt1.add(pt2)\n",
    "\n",
    "    TypeError: add() takes exactly 1 argument (2 given)\n",
    "    \n",
    "Any time you see a `TypeError` for a class method stating that the number of given arguments is one more than the number of arguments the method expects, check for this mistake."
   ]
  },
  {
   "cell_type": "markdown",
   "metadata": {},
   "source": [
    "Earlier we printed out `pt3.x, pt3.y`, which seems like a strange thing to do. If we had `pets = ['cat', 'dog', 'fish']` we wouldn't do `print pets[0], pets[1], pets[2]`, we would just `print pets`."
   ]
  },
  {
   "cell_type": "code",
   "execution_count": null,
   "metadata": {},
   "outputs": [],
   "source": [
    "print pt3"
   ]
  },
  {
   "cell_type": "markdown",
   "metadata": {},
   "source": [
    "What happened, why didn't `add` show us meaningful output?\n",
    "\n",
    "We need to define how Python should represent (e.g. `print`) instances of our class. This is done with a special method called `__repr__`. By adding a `_repr__` method, we tell Python how to use an object's attributes to represent that object to the user."
   ]
  },
  {
   "cell_type": "code",
   "execution_count": null,
   "metadata": {},
   "outputs": [],
   "source": [
    "class Point(object):\n",
    "    \"\"\"Cartesian point class capable of vector arithmetic.\"\"\"\n",
    "\n",
    "    def __init__(self, x, y):\n",
    "        self.x = x\n",
    "        self.y = y\n",
    "\n",
    "    def add(self, other):\n",
    "        \"\"\"Vector addition of Points, return new Point.\"\"\"\n",
    "        return Point(\n",
    "            self.x + other.x,\n",
    "            self.y + other.y\n",
    "        )\n",
    "\n",
    "    def __repr__(self):\n",
    "        return \"Point({}, {})\".format(self.x, self.y)"
   ]
  },
  {
   "cell_type": "code",
   "execution_count": null,
   "metadata": {},
   "outputs": [],
   "source": [
    "pt1 = Point(3, 5)\n",
    "pt2 = Point(8, -3)\n",
    "pt3 = pt1.add(pt2)\n",
    "print pt3"
   ]
  },
  {
   "cell_type": "markdown",
   "metadata": {},
   "source": [
    "Methods starting with two underscores (called \"dunder\") are often special in Python.  Another example, `__init__()`, is an initializer function that is called right after the object is created.\n",
    "\n",
    "Any arguments passed to the class at instantiation (e.g. 3 and 5) get passed on to the initializer.  The first argument of `__init__()` is self, and then we store x and y as attributes, so that any class methods can reference them later.\n",
    "\n",
    "Unlike many other object-oriented languages, Python doesn't have a concept of public or private attributes.  All are accessible to everyone."
   ]
  },
  {
   "cell_type": "code",
   "execution_count": null,
   "metadata": {},
   "outputs": [],
   "source": [
    "pt1.y = 2\n",
    "pt1"
   ]
  },
  {
   "cell_type": "markdown",
   "metadata": {},
   "source": [
    "Python does have a convention, though, that addresses this issue.  Attributes and methods that start with an underscore are considered \"internal\" to the class.  There's nothing stopping you from accessing them, but there's no guarantee that they'll remain the same in new versions.  If you use them and your code breaks in the future, it's your own fault."
   ]
  },
  {
   "cell_type": "markdown",
   "metadata": {},
   "source": [
    "Writing classes from scratch is often an extensive project. For example, let's try a few simple expressions to illustrate the number of features we still need to implement."
   ]
  },
  {
   "cell_type": "code",
   "execution_count": null,
   "metadata": {},
   "outputs": [],
   "source": [
    "%%expect_exception TypeError\n",
    "\n",
    "Point(3, 8) + Point(1, -3)"
   ]
  },
  {
   "cell_type": "code",
   "execution_count": null,
   "metadata": {},
   "outputs": [],
   "source": [
    "Point(3, 8) == Point(3, 8)"
   ]
  },
  {
   "cell_type": "code",
   "execution_count": null,
   "metadata": {},
   "outputs": [],
   "source": [
    "%%expect_exception TypeError\n",
    "\n",
    "5 * Point(1, -2)"
   ]
  },
  {
   "cell_type": "markdown",
   "metadata": {},
   "source": [
    "Let's fill in this missing functionality and other methods we might want a Point to have."
   ]
  },
  {
   "cell_type": "code",
   "execution_count": null,
   "metadata": {},
   "outputs": [],
   "source": [
    "class Point(object):\n",
    "    \"\"\"Cartesian point class capable of vector arithmetic.\"\"\"\n",
    "\n",
    "    def __init__(self, x, y):\n",
    "        self.x = x\n",
    "        self.y = y\n",
    "\n",
    "    def add(self, other):\n",
    "        \"\"\"Vector addition of Points, return new Point.\"\"\"\n",
    "        return Point(\n",
    "            self.x + other.x,\n",
    "            self.y + other.y\n",
    "        )\n",
    "\n",
    "    def __add__(self, other):\n",
    "        return None\n",
    "\n",
    "    def __mul__(self, const):\n",
    "        return None\n",
    "\n",
    "    def __repr__(self):\n",
    "        return \"Point({}, {})\".format(self.x, self.y)\n",
    "\n",
    "    def __eq__(self, other):\n",
    "        return None\n",
    "\n",
    "    def norm(self):\n",
    "        \"\"\"Calculate distance from Point to origin.\"\"\"\n",
    "        return None"
   ]
  },
  {
   "cell_type": "markdown",
   "metadata": {},
   "source": [
    "## Inheritance\n"
   ]
  },
  {
   "cell_type": "markdown",
   "metadata": {},
   "source": [
    "Many object-oriented languages have the concept of inheritance, and Python is no exception.  When one class **inherits** from another, it has all of the methods and properties of the first, plus whatever it adds.\n",
    "\n",
    "We have developed a `Point` class that implements some simple vector arithmetic on a 2D Cartesian grid, a special case of a more general class that implements vector arithmetic on an n-dimensional Cartesian grid. If we defined a `Vector` class for this more general case, then we could easily define `Point` class that inherits its functionality from `Vector`."
   ]
  },
  {
   "cell_type": "code",
   "execution_count": null,
   "metadata": {},
   "outputs": [],
   "source": [
    "class Vector(object):\n",
    "\n",
    "    def __init__(self, *args):\n",
    "        if all(isinstance(arg, (int, float, long)) for arg in args):\n",
    "            self.components = list(args)\n",
    "            self.dim = len(args)\n",
    "        else:\n",
    "            raise TypeError(\"All arguments must be int, float, or long.\")\n",
    "\n",
    "    def __add__(self, other):\n",
    "        if self.dim == other.dim:\n",
    "            return Vector(\n",
    "                *[self.components[i] + other.components[i]\n",
    "                  for i in range(self.dim)]\n",
    "            )\n",
    "        else:\n",
    "            raise ValueError(\"Can only add vectors with same dimension.\")\n",
    "\n",
    "    def __sub__(self, other):\n",
    "        neg_other = Vector(*[-component for component in other.components])\n",
    "        return self.__add__(neg_other)\n",
    "\n",
    "    def __mul__(self, multiplier):\n",
    "        if isinstance(multiplier, (int, float, long)):\n",
    "            return Vector(*[multiplier * component for component in self.components])\n",
    "        elif isinstance(multiplier, Vector):\n",
    "            return self.inner_product(multiplier)\n",
    "        else:\n",
    "            raise ValueError(\"Multiplier must be int, float, long, or Vector.\")\n",
    "\n",
    "    def __repr__(self):\n",
    "        return \"Vector({})\".format(', '.join(map(lambda x: str(x), self.components)))\n",
    "\n",
    "    def __eq__(self, other):\n",
    "        if self.dim == other.dim:\n",
    "            return self.components == other.components\n",
    "        return False\n",
    "\n",
    "    def norm(self):\n",
    "        \"\"\"Calculate distance from Point to origin.\"\"\"\n",
    "        return (sum(component**2 for component in self.components))**0.5\n",
    "\n",
    "    def inner_product(self, other):\n",
    "        if self.dim == other.dim:\n",
    "            return sum(self.components[i] * other.components[i]\n",
    "                       for i in range(self.dim))\n",
    "        else:\n",
    "            raise ValueError(\"Can only take inner product of vectors with same dimension\")\n",
    "\n",
    "    def cross_product(self, other):\n",
    "        if self.dim == 3 and other.dim == 3:\n",
    "            component1 = (self.components[1] * other.components[2]\n",
    "                          - self.components[2] * other.components[1])\n",
    "            component2 = (-self.components[0] * other.components[2]\n",
    "                          + self.components[2] * other.components[0])\n",
    "            component3 = (self.components[0] * other.components[1]\n",
    "                          - self.components[1] * other.components[0])\n",
    "            return Vector(\n",
    "                component1, component2, component3\n",
    "            )\n",
    "        else:\n",
    "            raise ValueError(\"Can only take cross product between three-dimensional vectors.\")"
   ]
  },
  {
   "cell_type": "code",
   "execution_count": null,
   "metadata": {},
   "outputs": [],
   "source": [
    "v1 = Vector(1, 6, 2)\n",
    "v2 = Vector(7, -2, -4)\n",
    "v3 = Vector(6, 2, 8, 3, 5)"
   ]
  },
  {
   "cell_type": "code",
   "execution_count": null,
   "metadata": {},
   "outputs": [],
   "source": [
    "print v1 * 2\n",
    "print v3 * -1\n",
    "print v1 * v2\n",
    "print v1 + v2\n",
    "print v1.cross_product(v2)\n",
    "print v1 == v2"
   ]
  },
  {
   "cell_type": "markdown",
   "metadata": {},
   "source": [
    "Now we'll write our `Point` class that inherits from `Vector`."
   ]
  },
  {
   "cell_type": "code",
   "execution_count": null,
   "metadata": {},
   "outputs": [],
   "source": [
    "class Point(Vector):\n",
    "    def __init__(self, x, y):\n",
    "        Vector.__init__(self, x, y)\n",
    "\n",
    "    def __add__(self, other):\n",
    "        return Point(*Vector.__add__(self, other).components)\n",
    "\n",
    "    def __sub__(self, other):\n",
    "        neg_other = Point(*[-component for component in other.components])\n",
    "        return self.__add__(neg_other)\n",
    "\n",
    "    def __mul__(self, multiplier):\n",
    "        result = Vector.__mul__(self, multiplier)\n",
    "        if isinstance(result, Vector):\n",
    "            return Point(*result.components)\n",
    "        return result\n",
    "\n",
    "    def __repr__(self):\n",
    "        return \"Point({})\".format(', '.join(map(lambda x: str(x), self.components)))\n",
    "\n",
    "    def cross_product(self, other):\n",
    "        return Vector(0, 0,\n",
    "                      self.components[0] * other.components[1]\n",
    "                      - self.components[1] * other.components[0])"
   ]
  },
  {
   "cell_type": "code",
   "execution_count": null,
   "metadata": {},
   "outputs": [],
   "source": [
    "pt1 = Point(1, 6)\n",
    "pt2 = Point(7, -2)"
   ]
  },
  {
   "cell_type": "code",
   "execution_count": null,
   "metadata": {},
   "outputs": [],
   "source": [
    "%%expect_exception TypeError\n",
    "\n",
    "pt3 = Point(6, 2, 8, 3, 5)"
   ]
  },
  {
   "cell_type": "code",
   "execution_count": null,
   "metadata": {},
   "outputs": [],
   "source": [
    "print pt1 + pt2\n",
    "print pt1 * pt2\n",
    "print pt1 * 2\n",
    "print pt1.cross_product(pt2)\n",
    "print pt1.norm()"
   ]
  },
  {
   "cell_type": "markdown",
   "metadata": {},
   "source": [
    "Here, we create a new class, `Point`, that inherits from `Vector`.  We would say that `Point` is a **subclass** of `Vector` and that `Vector` is a **superclass** of `Point`.   All two-dimensional vectors (i.e. points) are vectors, so this inheritance makes sense.\n",
    "\n",
    "We only need to specify two vector components for a Point, since it's two-dimensional.  So we define a new initializer function.  It will call the underlying `Vector` initializer, but accepts only two arguments.\n",
    "\n",
    "Since `Point` is a subclass of `Vector`, it has a `norm()` method without us having to explicitly code it. The magic of inheritance is that we can create a `Point` class without having to duplicate methods from the **superclass**. Furthermore, when we do define a method of the subclass, it's often abbreviated, only containing the code needed to modify output of superclass methods (e.g. addition etc. should return `Point`, not `Vector`).\n",
    "\n",
    "Typically you will leverage this feature by implementing common functionality in a superclass and idiosyncratic functionality in the subclasses. We'll see an example of this later in the lesson."
   ]
  },
  {
   "cell_type": "markdown",
   "metadata": {},
   "source": [
    "If we want to check if an object is of type Point, we can use the two ways we have already seen, but what about checking if a Point is a Vector?"
   ]
  },
  {
   "cell_type": "code",
   "execution_count": null,
   "metadata": {},
   "outputs": [],
   "source": [
    "point = Point(5, 2)\n",
    "print type(point) is Point\n",
    "print isinstance(point, Point)\n",
    "print type(point) is Vector\n",
    "print isinstance(point, Vector)"
   ]
  },
  {
   "cell_type": "markdown",
   "metadata": {},
   "source": [
    "`isinstance(obj, Class)` will check if `obj` is an instance of a `Class` or any superclass of `Class` whereas `type(obj) is Class` will only check if `obj` is an instance of `Class`."
   ]
  },
  {
   "cell_type": "markdown",
   "metadata": {},
   "source": [
    "A class can inherit from multiple superclasses.  Here we make a barebones `Matrix` class that can perform matrix multiplication:"
   ]
  },
  {
   "cell_type": "code",
   "execution_count": null,
   "metadata": {},
   "outputs": [],
   "source": [
    "class Matrix(object):\n",
    "    \"\"\"Basic 2D matrix object implementing matrix multiplication.\"\"\"\n",
    "\n",
    "    def __init__(self, matrix):\n",
    "        self.nrows = len(matrix)\n",
    "        if self.nrows:\n",
    "            self.ncols = len(matrix[0])\n",
    "        else:\n",
    "            self.ncols = 0\n",
    "\n",
    "        # check rows are same length\n",
    "        for row in matrix:\n",
    "            if len(row) != self.ncols:\n",
    "                raise ValueError(\"Matrix must have rows of constant length.\")\n",
    "\n",
    "        # check all values are numeric\n",
    "        for row in matrix:\n",
    "            for value in row:\n",
    "                if not isinstance(value, (int, float, long)):\n",
    "                    raise ValueError(\"Matrix may only contain numbers.\")\n",
    "\n",
    "        self.matrix = matrix\n",
    "\n",
    "    def matrix_product(self, other):\n",
    "        # check inner dimensions match\n",
    "        if self.ncols != other.nrows:\n",
    "            raise ValueError(\"ncols of left matrix must match nrows of right matrix\")\n",
    "\n",
    "        result = []\n",
    "        for i in range(self.nrows):\n",
    "            row = []\n",
    "            for j in range(other.ncols):\n",
    "                row.append(sum(self.matrix[i][k] * other.matrix[k][j]\n",
    "                               for k in range(self.ncols)))\n",
    "            result.append(row)\n",
    "\n",
    "        return Matrix(result)\n",
    "\n",
    "    def __repr__(self):\n",
    "        return \"Matrix({})\".format(self.matrix)"
   ]
  },
  {
   "cell_type": "markdown",
   "metadata": {},
   "source": [
    "Now we can make a class, `LAVector`, that combines the functionality of `Vector` with the ability to do matrix multiplication from `Matrix`."
   ]
  },
  {
   "cell_type": "code",
   "execution_count": null,
   "metadata": {},
   "outputs": [],
   "source": [
    "class LAVector(Vector, Matrix):\n",
    "    def __init__(self, vector):\n",
    "        if not isinstance(vector[0], list):\n",
    "            vector = [vector]\n",
    "        Matrix.__init__(self, vector)\n",
    "        if self.ncols != 1 and self.nrows != 1:\n",
    "            raise TypeError('Vector must have rank 1.')\n",
    "        self.dim = max(self.ncols, self.nrows)\n",
    "        self.components = [elem for row in self.matrix for elem in row]\n",
    "\n",
    "    def __mul__(self, multiplier):\n",
    "        if isinstance(multiplier, Matrix):\n",
    "            result = self.matrix_product(multiplier)\n",
    "            if result.ncols == 1 and result.nrows == 1:\n",
    "                result = result.matrix[0][0]\n",
    "            elif result.ncols == 1 or result.nrows == 1:\n",
    "                result = LAVector(result.matrix)\n",
    "        else:\n",
    "            result = Vector.__mul__(self, multiplier)\n",
    "\n",
    "        return result\n",
    "\n",
    "    def __repr__(self):\n",
    "        return \"LAVector({})\".format(self.matrix)"
   ]
  },
  {
   "cell_type": "code",
   "execution_count": null,
   "metadata": {},
   "outputs": [],
   "source": [
    "lv1 = LAVector([1, 5, 2])\n",
    "v1 = Vector(5, 2, 1)\n",
    "lv2 = LAVector([[5], [2], [1]])\n",
    "mat = Matrix([[2, 5, 5], [8, 1, 0], [1, -1, -2]])"
   ]
  },
  {
   "cell_type": "code",
   "execution_count": null,
   "metadata": {},
   "outputs": [],
   "source": [
    "print lv1 * lv2\n",
    "print lv2 * lv1\n",
    "print lv1 * mat\n",
    "print v1*lv1\n",
    "print lv1 * 5"
   ]
  },
  {
   "cell_type": "code",
   "execution_count": null,
   "metadata": {},
   "outputs": [],
   "source": [
    "print lv1 + lv2\n",
    "print lv2 - lv1\n",
    "print lv1.norm()"
   ]
  },
  {
   "cell_type": "markdown",
   "metadata": {},
   "source": [
    "Note that the results of multiplication calls on both `matrix_product` from `Matrix` as well as `__mul__` from `Vector`.  We also inherit methods like `__add__`, `__sub__`, and `norm` which are only defined in `Vector`. This is fairly easy to track, since every method is defined only once.  In the cases where both classes define a method (e.g. `__init__`) we explicitly specify which one we want to use. But what would happen if both superclasses defined a method with a given name, and we didn't specify which we wanted to invoke?"
   ]
  },
  {
   "cell_type": "code",
   "execution_count": null,
   "metadata": {},
   "outputs": [],
   "source": [
    "class A(object):\n",
    "    \n",
    "    def func(self):\n",
    "        print \"Class A\"\n",
    "\n",
    "class B(object):\n",
    "    \n",
    "    def func(self):\n",
    "        print \"Class B\"\n",
    "\n",
    "class C(A, B):\n",
    "    pass\n",
    "\n",
    "c = C()\n",
    "c.func()"
   ]
  },
  {
   "cell_type": "markdown",
   "metadata": {},
   "source": [
    "Python's [Method Resolution Order](https://www.python.org/download/releases/2.3/mro/) specifies the order in which parent classes are queried to find a method of a particular name.  The result of that algorithm are stored in a class property called `__mro__`."
   ]
  },
  {
   "cell_type": "code",
   "execution_count": null,
   "metadata": {},
   "outputs": [],
   "source": [
    "C.__mro__"
   ]
  },
  {
   "cell_type": "markdown",
   "metadata": {},
   "source": [
    "Thus, we we ask for a method called `func()`, we will check first class `C` and then `A`.  Since `A` has a `func()` method, we don't proceed on to check `B` or `object`.  While the MRO is perfectly deterministic, it may be hard to reason about for non-experts.  For instance, if we inherit in the opposite order, we'll get class `B`'s method:"
   ]
  },
  {
   "cell_type": "code",
   "execution_count": null,
   "metadata": {},
   "outputs": [],
   "source": [
    "class C2(B, A):\n",
    "    pass\n",
    "\n",
    "c2 = C2()\n",
    "c2.func()"
   ]
  },
  {
   "cell_type": "code",
   "execution_count": null,
   "metadata": {},
   "outputs": [],
   "source": [
    "C2.__mro__"
   ]
  },
  {
   "cell_type": "markdown",
   "metadata": {},
   "source": [
    "In general, it's probably a good idea to avoid complicated multiple inheritance.\n",
    "\n",
    "There are two types of multiple inheritance that tend to be safer.  Some languages implement these as separate constructs, but in Python, it's all done with classes.\n",
    "\n",
    "**Mixins** are classes that add some specific capability.  The `Hello` class from before acts as a mixin, adding the `speak()` method.  Because they provide only a few methods and attributes, they are unlikely to cause conflicts in the MRO.\n",
    "\n",
    "**Interfaces** are classes that define a particular set of methods (or attributes) that a subclass is supposed to implement.  In Python, this tends to be done by defining methods that `raise NotImplementedError`.  This is useful in languages with type checking, as the compiler can be sure that any subclass of the interface will implement certain methods.  With Python's duck-typing, it tends not to be used."
   ]
  },
  {
   "cell_type": "markdown",
   "metadata": {},
   "source": [
    "## Putting it all together..."
   ]
  },
  {
   "cell_type": "markdown",
   "metadata": {},
   "source": [
    "Let's turn to another example to summarize what we've learned. Let's define a `Person` class."
   ]
  },
  {
   "cell_type": "code",
   "execution_count": null,
   "metadata": {},
   "outputs": [],
   "source": [
    "class Person(object):\n",
    "    \n",
    "    def __init__(self, first, last, age):\n",
    "        self._first = first\n",
    "        self._last = last\n",
    "        self._age = age\n",
    "    \n",
    "    def _get_full_name(self):\n",
    "        \"\"\"return person's name, last name first\"\"\"\n",
    "        return '%s, %s' % (self._last, self._first)\n",
    "    \n",
    "    def get_info(self):\n",
    "        \"\"\"return string of basic info on person\"\"\"\n",
    "        return 'name: %s age: %d' % (self._get_full_name(), self._age)\n",
    "\n",
    "    def report(self):\n",
    "        raise NotImplementedError('You forgot to implement the report method!')"
   ]
  },
  {
   "cell_type": "markdown",
   "metadata": {},
   "source": [
    "We define the class with some generic methods and attributes that characterize a person. We've additionally defined a `report` method. However, this `report` method does not have useful functionality as it will throw an error if we call it directly. Instead, we are coding it in a way that indicates to whomever codes subclasses of the `Person` that instances of `Person` are expected to have a working `report` method.\n",
    "\n",
    "Typically if you are working on a project by yourself you might omit the `report` method in `Person` entirely. If this code is the work of a large team, it might be helpful to your teammates to include it.\n",
    "\n",
    "Let's define two subclasses of `Person`:"
   ]
  },
  {
   "cell_type": "code",
   "execution_count": null,
   "metadata": {},
   "outputs": [],
   "source": [
    "class Teacher(Person):\n",
    "    \n",
    "    def __init__(self, first, last, age, department):\n",
    "        \"\"\" Create a teacher for this department \"\"\"\n",
    "        super(Teacher, self).__init__(first, last, age)\n",
    "        self._department = department\n",
    "        self._students = []\n",
    "        \n",
    "    def add_student(self, student):\n",
    "        \"\"\"add a student that is learning from this teacher\"\"\"\n",
    "        self._students.append(student)\n",
    "\n",
    "    def report(self):\n",
    "        \"\"\"report on a teacher's students\"\"\"\n",
    "        title = '%s (%s)' % (self.get_info(), self._department)\n",
    "        print title\n",
    "        print '=' * len(title)\n",
    "        for student in self._students:\n",
    "            print student.get_info()\n",
    "            \n",
    "class Student(Person):\n",
    "    \"\"\" Creat a student with age and major \"\"\"\n",
    "    def __init__(self, first, last, age, major):\n",
    "        super(Student, self).__init__(first, last, age)\n",
    "        self._major = major\n",
    "\n",
    "    def report(self):\n",
    "        \"\"\"report about student\"\"\"\n",
    "        print '%s (%s)' % (self.get_info(), self._major)"
   ]
  },
  {
   "cell_type": "markdown",
   "metadata": {},
   "source": [
    "In this example, instances of `Teacher` will contain a list of `Student` instances. We can use this to record which students have classes with the teachers."
   ]
  },
  {
   "cell_type": "code",
   "execution_count": null,
   "metadata": {},
   "outputs": [],
   "source": [
    "teacher1 = Teacher('Stephen', 'Hawking', 74, 'Physics')\n",
    "teacher2 = Teacher('Donald', 'Knuth', 78, 'Computer Science')\n",
    "\n",
    "student1 = Student('John', 'Smith', 20, 'Mechanical Engineering')\n",
    "student2 = Student('Mary', 'Johnson', 20, 'Physics')\n",
    "student3 = Student('James', 'Williams', 19, 'Political Science')\n",
    "student4 = Student('Patricia', 'Brown', 19, 'Computer Science')"
   ]
  },
  {
   "cell_type": "markdown",
   "metadata": {},
   "source": [
    "All of the `Teacher` and `Student` instances have the `get_info` method. I did not explicitly code it for either class because it is inherited from the `Person` class. The same code is executed when instances of either class call `get_info`."
   ]
  },
  {
   "cell_type": "code",
   "execution_count": null,
   "metadata": {},
   "outputs": [],
   "source": [
    "print teacher1.get_info()\n",
    "print student3.get_info()\n",
    "print student4.get_info()"
   ]
  },
  {
   "cell_type": "markdown",
   "metadata": {},
   "source": [
    "All of the `Teacher` and `Student` instances are instances of the `People` class."
   ]
  },
  {
   "cell_type": "code",
   "execution_count": null,
   "metadata": {},
   "outputs": [],
   "source": [
    "print isinstance(teacher1, Teacher)\n",
    "print isinstance(teacher2, Teacher)\n",
    "print isinstance(student1, Student)\n",
    "print isinstance(student2, Student)\n",
    "print isinstance(student3, Student)\n",
    "print isinstance(student4, Student)"
   ]
  },
  {
   "cell_type": "markdown",
   "metadata": {},
   "source": [
    "The `Teacher` instances are NOT instances of the `Student` class, and the `Student` instances are NOT instances of the `Teacher` class. Both are instances of the `Person` class."
   ]
  },
  {
   "cell_type": "code",
   "execution_count": null,
   "metadata": {},
   "outputs": [],
   "source": [
    "print isinstance(teacher1, Student)\n",
    "print isinstance(student1, Teacher)\n",
    "print isinstance(teacher1, Person)\n",
    "print isinstance(student1, Person)"
   ]
  },
  {
   "cell_type": "markdown",
   "metadata": {},
   "source": [
    "We can add students who are in the teachers' classes."
   ]
  },
  {
   "cell_type": "code",
   "execution_count": null,
   "metadata": {},
   "outputs": [],
   "source": [
    "teacher1.add_student(student1)\n",
    "teacher1.add_student(student3)\n",
    "\n",
    "teacher2.add_student(student2)\n",
    "teacher2.add_student(student3)\n",
    "teacher2.add_student(student4)"
   ]
  },
  {
   "cell_type": "markdown",
   "metadata": {},
   "source": [
    "We will now use the `report` method for our `Person` instances. Observe that the functionality of the `report` method for the two kinds of classes are different."
   ]
  },
  {
   "cell_type": "code",
   "execution_count": null,
   "metadata": {},
   "outputs": [],
   "source": [
    "teacher1.report()"
   ]
  },
  {
   "cell_type": "code",
   "execution_count": null,
   "metadata": {},
   "outputs": [],
   "source": [
    "teacher2.report()"
   ]
  },
  {
   "cell_type": "code",
   "execution_count": null,
   "metadata": {},
   "outputs": [],
   "source": [
    "student1.report()"
   ]
  },
  {
   "cell_type": "code",
   "execution_count": null,
   "metadata": {},
   "outputs": [],
   "source": [
    "student2.report()"
   ]
  },
  {
   "cell_type": "markdown",
   "metadata": {},
   "source": [
    "### Exercises\n"
   ]
  },
  {
   "cell_type": "markdown",
   "metadata": {},
   "source": [
    "1. Write a classes `Cube`, `Sphere`, `Cone`, and `Cylinder`, all inherited from a common `Shape` base class. Define methods `calculate_volume`, `calculate_surface_area`, `set_color`, and `get_color`. Which methods should be implemented in the base class and which should be implemented in the child classes?"
   ]
  },
  {
   "cell_type": "markdown",
   "metadata": {},
   "source": [
    "### Exit Tickets\n"
   ]
  },
  {
   "cell_type": "markdown",
   "metadata": {},
   "source": [
    "1. What is a class? Define it in your own words. When might a class be useful?\n",
    "2. What is inheritance?\n",
    "3. What is the difference between an attribute and a method?"
   ]
  },
  {
   "cell_type": "markdown",
   "metadata": {},
   "source": [
    "*Copyright &copy; 2016 The Data Incubator.  All rights reserved.*"
   ]
  }
 ],
 "metadata": {
  "kernelspec": {
   "display_name": "Python 2",
   "name": "python2"
  },
  "nbclean": true
 },
 "nbformat": 4,
 "nbformat_minor": 0
}
