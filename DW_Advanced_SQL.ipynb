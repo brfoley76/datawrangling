{
 "cells": [
  {
   "cell_type": "code",
   "execution_count": null,
   "metadata": {},
   "outputs": [],
   "source": [
    "%matplotlib inline\n",
    "import matplotlib\n",
    "import seaborn as sns\n",
    "sns.set()\n",
    "matplotlib.rcParams['figure.dpi'] = 144"
   ]
  },
  {
   "cell_type": "markdown",
   "metadata": {},
   "source": [
    "# Advanced SQL\n"
   ]
  },
  {
   "cell_type": "markdown",
   "metadata": {},
   "source": [
    "As in the `IW_SQL` notebook, we'll be looking at the Structured Query Language (SQL).  Here we'll be extending on what we covered, particularly by looking at table manipulation, views, and sessions v transactions (and locking).\n",
    "\n",
    "Make sure you've created the tables and run the code in `IW_SQL` first!  We'll be re-using the same tables a bit, so we'll be drawing from the same testdb.sqlite file"
   ]
  },
  {
   "cell_type": "code",
   "execution_count": null,
   "metadata": {},
   "outputs": [],
   "source": [
    "import pandas as pd"
   ]
  },
  {
   "cell_type": "code",
   "execution_count": null,
   "metadata": {},
   "outputs": [],
   "source": [
    "%load_ext sql\n",
    "%sql sqlite:///testdb.sqlite"
   ]
  },
  {
   "cell_type": "code",
   "execution_count": null,
   "metadata": {},
   "outputs": [],
   "source": [
    "%%sql\n",
    "\n",
    "--#This is sqlite specific, it's different for every flavor of SQL\n",
    "SELECT * FROM sqlite_master WHERE type='table';"
   ]
  },
  {
   "cell_type": "markdown",
   "metadata": {},
   "source": [
    "At this point, it would be good to review the `IW_SQL` notebook.  Particularly, JOINs, UNIONs, and subqueries, as they are common points of confusion.\n"
   ]
  },
  {
   "cell_type": "markdown",
   "metadata": {},
   "source": [
    "## Sessions and transactions\n"
   ]
  },
  {
   "cell_type": "markdown",
   "metadata": {},
   "source": [
    "When you connect to an SQL database, you create a _session_.  You can think of this just like an ssh session - you log in/connect, you can change things around, run commands, and as long as you don't save them they'll be lost when you log out/disconnect.  Also, usually any admin changes made to the database (changing table permissions, etc) won't affect your session until you disconnect and reconnect.\n",
    "\n",
    "A session consists of a number of _transactions_.  These are atomic blocks of SQL commands.  These are equivalent to our cells in the jupyter notebook, in that they're run together as a unit.  However, in most SQL setups, they actually extend over multiple commands you send to the database until you either `COMMIT` or `ROLLBACK`.  COMMIT saves all your changes and makes them \"permanent\" in the database, while ROLLBACK resets the database state to what it was before your transaction block.  In this sense, every transaction maintains a state in the database, so changes that someone else makes *while* a transaction is running won't be visible.  We don't need them here in Jupyter since it defaults to autocommit - every cell is treated as a single transaction with an implied `COMMIT` at the end.\n",
    "\n",
    "One might imagine any number of scenarios where this could be a problem - two people trying to alter the same table, for example.  The DB management software is pretty smart and serializes changes in such a way that they make sense, but you can occasionally run in to problems and a table can _lock_ - the session will freeze while it waits for conflicting changes to resolve.  Very similar to a race condition or a mutex lock.  Generally at that point the DB Admin has to fix it, or you can try to ROLLBACK your changes.\n",
    "\n",
    "Easy to serialize:\n",
    "- SELECT\n",
    "- INSERT\n",
    "\n",
    "Hard to serialize, can lead to conflicts:\n",
    "- UPDATE\n",
    "- DELETE\n",
    "- ALTER TABLE, DROP TABLE, etc.\n"
   ]
  },
  {
   "cell_type": "markdown",
   "metadata": {},
   "source": [
    "## Manipulating tables\n"
   ]
  },
  {
   "cell_type": "markdown",
   "metadata": {},
   "source": [
    "Let's look at manipulating tables - we'll look at this for temporary tables, as this is most likely what you'll be doing as someone analyzing data, but to do it for a real table is identical (save for the changes in the CREATE statement)."
   ]
  },
  {
   "cell_type": "code",
   "execution_count": null,
   "metadata": {},
   "outputs": [],
   "source": [
    "%%sql\n",
    "\n",
    "DROP TABLE IF EXISTS jfriends;\n",
    "\n",
    "/*#Create a table as a selection from another one.  \n",
    "#Of course, selection can be arbitrarily complex*/\n",
    "\n",
    "CREATE TEMP TABLE jfriends AS \n",
    "SELECT * FROM friends WHERE name like 'J%';\n",
    "\n",
    "SELECT * FROM jfriends;"
   ]
  },
  {
   "cell_type": "code",
   "execution_count": null,
   "metadata": {},
   "outputs": [],
   "source": [
    "%%sql\n",
    "\n",
    "--#Note that jfriends isn't in the list, it hasn't been persisted.  It will vanish\n",
    "SELECT * FROM sqlite_master WHERE type='table';"
   ]
  },
  {
   "cell_type": "markdown",
   "metadata": {},
   "source": [
    "Question: Why make a temporary table?  What's the strength and weakness?"
   ]
  },
  {
   "cell_type": "code",
   "execution_count": null,
   "metadata": {},
   "outputs": [],
   "source": [
    "%%sql\n",
    "\n",
    "DROP TABLE IF EXISTS new_friends;\n",
    "\n",
    "CREATE TEMP TABLE new_friends (\n",
    "    name              TEXT NOT NULL,\n",
    "    city              TEXT NOT NULL,\n",
    "    favorite_color    TEXT\n",
    ");\n",
    "\n",
    "INSERT INTO new_friends --(name, city, favorite_color) <- this part is optional\n",
    "SELECT name, city, favorite_color FROM friends WHERE name like 'J%';\n",
    "\n",
    "SELECT * FROM new_friends;"
   ]
  },
  {
   "cell_type": "code",
   "execution_count": null,
   "metadata": {},
   "outputs": [],
   "source": [
    "%%sql\n",
    "\n",
    "--#Another option to create a blank table, if we want to keep the structure of an old one\n",
    "DROP TABLE IF EXISTS blank_friends;\n",
    "\n",
    "CREATE TEMP TABLE blank_friends AS\n",
    "SELECT * FROM friends WHERE 1=0;\n",
    "\n",
    "SELECT * FROM blank_friends;"
   ]
  },
  {
   "cell_type": "code",
   "execution_count": null,
   "metadata": {},
   "outputs": [],
   "source": [
    "%%sql\n",
    "\n",
    "--#This is a bit SQL flavor dependent, check your documentation\n",
    "\n",
    "PRAGMA table_info(blank_friends)"
   ]
  },
  {
   "cell_type": "code",
   "execution_count": null,
   "metadata": {},
   "outputs": [],
   "source": [
    "%%sql\n",
    "\n",
    "--#Let's get rid of the J names, and put some new friends in the table\n",
    "\n",
    "--# This works in some SQL flavors, but not sqlite: TRUNCATE TABLE new_friends;\n",
    "\n",
    "--#You can of course put any WHERE statement there, but this one wipes the whole table\n",
    "--#Technically, the DELETE FROM new_friends; does the same thing\n",
    "DELETE FROM new_friends WHERE 1 = 1;\n",
    "\n",
    "INSERT INTO new_friends VALUES ('Mary', 'Austin', NULL), ('Brian', 'Houston', NULL);\n",
    "\n",
    "SELECT * FROM new_friends;"
   ]
  },
  {
   "cell_type": "code",
   "execution_count": null,
   "metadata": {},
   "outputs": [],
   "source": [
    "%%sql\n",
    "\n",
    "--#Let's say Mary decided on a favorite color.  Let's update the table correspondingly\n",
    "UPDATE new_friends SET favorite_color = 'Blue' WHERE name = 'Mary';\n",
    "\n",
    "SELECT * FROM new_friends;"
   ]
  },
  {
   "cell_type": "markdown",
   "metadata": {},
   "source": [
    "## Views\n"
   ]
  },
  {
   "cell_type": "markdown",
   "metadata": {},
   "source": [
    "A view is a saved SQL query, that you can treat as a table.  It's \"live\", in the sense that it reflects changes to the underlying table.  They can be permanent or temporary, just like a table."
   ]
  },
  {
   "cell_type": "code",
   "execution_count": null,
   "metadata": {},
   "outputs": [],
   "source": [
    "%%sql\n",
    "\n",
    "CREATE VIEW jfriends_view AS SELECT * FROM friends WHERE name like 'J%';"
   ]
  },
  {
   "cell_type": "code",
   "execution_count": null,
   "metadata": {},
   "outputs": [],
   "source": [
    "%%sql\n",
    "\n",
    "--#same content as jfriends\n",
    "\n",
    "SELECT * FROM jfriends_view;"
   ]
  },
  {
   "cell_type": "code",
   "execution_count": null,
   "metadata": {},
   "outputs": [],
   "source": [
    "%%sql\n",
    "\n",
    "INSERT INTO friends (name, city, favorite_color) VALUES ('Joe', 'New York', 'Red');"
   ]
  },
  {
   "cell_type": "code",
   "execution_count": null,
   "metadata": {},
   "outputs": [],
   "source": [
    "%%sql\n",
    "\n",
    "SELECT * FROM jfriends_view;"
   ]
  },
  {
   "cell_type": "code",
   "execution_count": null,
   "metadata": {},
   "outputs": [],
   "source": [
    "%%sql\n",
    "\n",
    "SELECT * FROM jfriends;"
   ]
  },
  {
   "cell_type": "markdown",
   "metadata": {},
   "source": [
    "Question: What is the benefit and drawback of a view?  When might you want to have a permanent view in the database?"
   ]
  },
  {
   "cell_type": "markdown",
   "metadata": {},
   "source": [
    "## Advanced query commands\n"
   ]
  },
  {
   "cell_type": "markdown",
   "metadata": {},
   "source": [
    "In IW_SQL, we neglected to cover a few useful topics.  They may have been mentioned in class, but are not written down.  They are:\n",
    "\n",
    "- DISTINCT, COUNT(DISTINCT ...)\n",
    "- HAVING\n",
    "- WITH\n",
    "- Dealing with NULLs\n",
    "- UDFs (these are very SQL flavor specific, but should be mentioned)"
   ]
  },
  {
   "cell_type": "code",
   "execution_count": null,
   "metadata": {},
   "outputs": [],
   "source": [
    "%%sql\n",
    "\n",
    "--#DISTINCT does exactly what you think it does\n",
    "SELECT DISTINCT name FROM friends;"
   ]
  },
  {
   "cell_type": "code",
   "execution_count": null,
   "metadata": {},
   "outputs": [],
   "source": [
    "%%sql\n",
    "\n",
    "--#COUNT(DISTINCT col_name) can be very useful\n",
    "SELECT COUNT(DISTINCT city) AS num_cities FROM friends;"
   ]
  },
  {
   "cell_type": "code",
   "execution_count": null,
   "metadata": {},
   "outputs": [],
   "source": [
    "%%sql\n",
    "\n",
    "--#Having is just the GROUP BY equivalent of WHERE.  Note it doesn't respect column aliases\n",
    "SELECT city, count(name) as friends FROM friends GROUP BY city HAVING count(name) > 1;"
   ]
  },
  {
   "cell_type": "markdown",
   "metadata": {},
   "source": [
    "`WITH` is another way of handling subqueries.  It only allows relatively simple ones, but makes everything much cleaner"
   ]
  },
  {
   "cell_type": "code",
   "execution_count": null,
   "metadata": {},
   "outputs": [],
   "source": [
    "%%sql\n",
    "\n",
    "--#Let's add some more sweater prices\n",
    "\n",
    "INSERT INTO merchandise VALUES ('red', 39.99), ('blue', 59.99);\n",
    "\n",
    "select * from merchandise"
   ]
  },
  {
   "cell_type": "code",
   "execution_count": null,
   "metadata": {},
   "outputs": [],
   "source": [
    "%%sql\n",
    "\n",
    "select * from friends"
   ]
  },
  {
   "cell_type": "code",
   "execution_count": null,
   "metadata": {},
   "outputs": [],
   "source": [
    "%%sql\n",
    "\n",
    "--#We'll want to get the cheapest variety of each sweater color\n",
    "--#Note that this only returns people that have a sweater color available\n",
    "\n",
    "WITH cheapest AS (SELECT sweater_color, MIN(price) as price FROM merchandise GROUP BY 1),\n",
    "lower AS (SELECT name, city, LOWER(favorite_color) as color FROM friends)\n",
    "SELECT name, city, color, price FROM lower JOIN cheapest ON sweater_color = color;"
   ]
  },
  {
   "cell_type": "markdown",
   "metadata": {},
   "source": [
    "So, in the above, we didn't do anything for people who didn't have a favorite color.  Let's instead give them a default -- the cheapest one available.  We'll use CASE WHEN, which all flavors of SQL have, but many also have COALESCE and similar for dealing with this case."
   ]
  },
  {
   "cell_type": "code",
   "execution_count": null,
   "metadata": {},
   "outputs": [],
   "source": [
    "%%sql\n",
    "\n",
    "WITH cheapest_color AS (SELECT sweater_color FROM merchandise ORDER BY price LIMIT 1),\n",
    "cheapest AS (SELECT sweater_color, MIN(price) as price FROM merchandise GROUP BY 1),\n",
    "lower AS (SELECT name, city, \n",
    "          CASE WHEN favorite_color IN (SELECT sweater_color FROM merchandise) \n",
    "          THEN LOWER(favorite_color)\n",
    "          ELSE (SELECT sweater_color FROM cheapest_color) END AS color FROM friends)\n",
    "SELECT name, city, color, price FROM lower JOIN cheapest ON sweater_color = color;"
   ]
  },
  {
   "cell_type": "markdown",
   "metadata": {},
   "source": [
    "Question: What's the drawback to using WITH instead of a subquery?"
   ]
  },
  {
   "cell_type": "code",
   "execution_count": null,
   "metadata": {},
   "outputs": [],
   "source": []
  },
  {
   "cell_type": "markdown",
   "metadata": {},
   "source": [
    "*Copyright &copy; 2017 The Data Incubator.  All rights reserved.*"
   ]
  }
 ],
 "metadata": {
  "kernelspec": {
   "display_name": "Python 2",
   "language": "python",
   "name": "python2"
  },
  "nbclean": true
 },
 "nbformat": 4,
 "nbformat_minor": 0
}
