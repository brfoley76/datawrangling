{
 "cells": [
  {
   "cell_type": "code",
   "execution_count": null,
   "metadata": {},
   "outputs": [],
   "source": [
    "%matplotlib inline\n",
    "import matplotlib\n",
    "import seaborn as sns\n",
    "sns.set()\n",
    "matplotlib.rcParams['figure.dpi'] = 144"
   ]
  },
  {
   "cell_type": "code",
   "execution_count": null,
   "metadata": {},
   "outputs": [],
   "source": [
    "import expectexception"
   ]
  },
  {
   "cell_type": "markdown",
   "metadata": {},
   "source": [
    "<!-- requirement: images/logic_tree.png -->\n",
    "\n",
    "# Python\n"
   ]
  },
  {
   "cell_type": "markdown",
   "metadata": {},
   "source": [
    "Python is an open-source, high-level, dynamically-typed general-purpose scripting language.  Its philosophy is around code readability and flexibility, but there's a hidden \"one right (i.e. pythonic) way to do things\" mentality.  Almost everyone uses the [CPython](https://en.wikipedia.org/wiki/CPython) implementation although there are some adherents to Jython (implemented in Java) and [PyPy](https://en.wikipedia.org/wiki/PyPy) (which is a faster but more restricted version of Python)."
   ]
  },
  {
   "cell_type": "markdown",
   "metadata": {},
   "source": [
    "# Jupyter notebooks and the kernel\n"
   ]
  },
  {
   "cell_type": "markdown",
   "metadata": {},
   "source": [
    "Python is interpreted, as opposed to compiled. This means that a program called the interpeter turns our Python code into instructions that the processor can execute. We are currently working in an interactive environment (sometimes called a [REPL](https://en.wikipedia.org/wiki/Read%E2%80%93eval%E2%80%93print_loop)) called a Jupyter notebook. The Jupyter notebook has a Python interpreter kernel that will evaluate our code line-by-line. The format of the notebook also allows us to segregate code into blocks (called cells) that can be executed separately."
   ]
  },
  {
   "cell_type": "code",
   "execution_count": null,
   "metadata": {},
   "outputs": [],
   "source": [
    "1+1"
   ]
  },
  {
   "cell_type": "markdown",
   "metadata": {},
   "source": [
    "Since notebooks are interactive, we'll rely heavily on console output. Only the last evaluated statement will be displayed as output of a cell. If we want to inspect results of other statements, we'll need to `print` them."
   ]
  },
  {
   "cell_type": "code",
   "execution_count": null,
   "metadata": {},
   "outputs": [],
   "source": [
    "# we only see the results of the last line\n",
    "\n",
    "1+1\n",
    "2+2\n",
    "3+3"
   ]
  },
  {
   "cell_type": "code",
   "execution_count": null,
   "metadata": {},
   "outputs": [],
   "source": [
    "# to see them all we need to print\n",
    "\n",
    "print 1+1\n",
    "print 2+2\n",
    "print 3+3"
   ]
  },
  {
   "cell_type": "markdown",
   "metadata": {},
   "source": [
    "# Variables"
   ]
  },
  {
   "cell_type": "markdown",
   "metadata": {},
   "source": [
    "Evaluating input and returning results won't get us very far if there is no way to persist the output. For example, to calculate a number in the Fibonacci sequence, we need to remember the two numbers that precede it. We store information in variables for reference in later lines of code (or later cells in the notebook)."
   ]
  },
  {
   "cell_type": "code",
   "execution_count": null,
   "metadata": {},
   "outputs": [],
   "source": [
    "a = 1 + 1\n",
    "b = 4.3 * a\n",
    "c = 'hello'\n",
    "\n",
    "print a, type(a)\n",
    "print b, type(b)\n",
    "print c, type(c)"
   ]
  },
  {
   "cell_type": "markdown",
   "metadata": {},
   "source": [
    "There are many types of information we can store in variables. Here we've just stored some simple types like an integer, a floating-point number, and a string. We'll encounter more complex objects later in the course."
   ]
  },
  {
   "cell_type": "markdown",
   "metadata": {},
   "source": [
    "# Functions\n"
   ]
  },
  {
   "cell_type": "markdown",
   "metadata": {},
   "source": [
    "How do we act on this information? Sometimes we will interactively perform operations on variables, but often we'll want to perform the same operation many times. We can define functions that accept input, perform a task, and may return output. Functions help us [organize programs in logically structured ways](https://en.wikipedia.org/wiki/Modular_programming), which makes code easier to read and maintain."
   ]
  },
  {
   "cell_type": "code",
   "execution_count": null,
   "metadata": {},
   "outputs": [],
   "source": [
    "def multiply_by_five(x):\n",
    "    return x * 5"
   ]
  },
  {
   "cell_type": "markdown",
   "metadata": {},
   "source": [
    "There are a few special elements of syntax in a function definition. Functions begin with a `def` statement (because we are _def_ining a function). This is followed by the name of the function (e.g. `multiply_by_five`). After that, enclosed in parentheses, are the _arguments_. Arguments are placeholder variables that we will use to refer to input in the _body_ of the function. The body of the function is an indented block under the definition that contains all the code the function will execute whenver we _call_ it. Within the body, `return` has the special meaning of returning some output and concluding execution of the function."
   ]
  },
  {
   "cell_type": "code",
   "execution_count": null,
   "metadata": {},
   "outputs": [],
   "source": [
    "multiply_by_five(5)"
   ]
  },
  {
   "cell_type": "code",
   "execution_count": null,
   "metadata": {},
   "outputs": [],
   "source": [
    "my_number = 5.1\n",
    "multiply_by_five(my_number)"
   ]
  },
  {
   "cell_type": "markdown",
   "metadata": {},
   "source": [
    "We can also define _anonymous_ functions using the `lambda` keyword."
   ]
  },
  {
   "cell_type": "code",
   "execution_count": null,
   "metadata": {},
   "outputs": [],
   "source": [
    "add = lambda x, y: x + y\n",
    "\n",
    "add(2, 6)"
   ]
  },
  {
   "cell_type": "markdown",
   "metadata": {},
   "source": [
    "Python is not a _type-safe_ language, meaning that we don't explicitly declare the type of a variable when it is defined. This is what let's us use `multiply_by_five` on both `int` and `float` without any special declaration that both are allowed. Sometimes this can result in surprising behavior."
   ]
  },
  {
   "cell_type": "code",
   "execution_count": null,
   "metadata": {},
   "outputs": [],
   "source": [
    "multiply_by_five('what will this do?')"
   ]
  },
  {
   "cell_type": "markdown",
   "metadata": {},
   "source": [
    "And sometimes this can result in an error."
   ]
  },
  {
   "cell_type": "code",
   "execution_count": null,
   "metadata": {},
   "outputs": [],
   "source": [
    "%%expect_exception TypeError\n",
    "\n",
    "multiply_by_five(None)"
   ]
  },
  {
   "cell_type": "markdown",
   "metadata": {},
   "source": [
    "# Logic and program flow\n"
   ]
  },
  {
   "cell_type": "markdown",
   "metadata": {},
   "source": [
    "Since functions may accept many different values and types of input, we often will want a function to behave in ways that depend on the input. For instance, maybe we want our function to interpret the input `None` as 0."
   ]
  },
  {
   "cell_type": "code",
   "execution_count": null,
   "metadata": {},
   "outputs": [],
   "source": [
    "def multiply_by_five(x):\n",
    "    if x is None:\n",
    "        return 0\n",
    "    else:\n",
    "        return x * 5"
   ]
  },
  {
   "cell_type": "code",
   "execution_count": null,
   "metadata": {},
   "outputs": [],
   "source": [
    "# this is also valid; why?\n",
    "def multiply_by_five(x):\n",
    "    if x is None:\n",
    "        return 0\n",
    "    return x * 5"
   ]
  },
  {
   "cell_type": "code",
   "execution_count": null,
   "metadata": {},
   "outputs": [],
   "source": [
    "print multiply_by_five(my_number)\n",
    "print multiply_by_five(None)"
   ]
  },
  {
   "cell_type": "markdown",
   "metadata": {},
   "source": [
    "When `x` is `None`, the `if` statement evaluates as `True`. `True` and `False` are called _Boolean_ variables.\n",
    "\n",
    "We can define complex logic by combining conditions using logical operators and by nesting conditionals."
   ]
  },
  {
   "cell_type": "code",
   "execution_count": null,
   "metadata": {},
   "outputs": [],
   "source": [
    "def multiply_by_five(x):\n",
    "    if x is None:\n",
    "        return 0\n",
    "    elif isinstance(x, int) or isinstance(x, float):\n",
    "        return x * 5\n",
    "    else:\n",
    "        raise TypeError('Expected input to be number or None. Got %s' % type(x))"
   ]
  },
  {
   "cell_type": "code",
   "execution_count": null,
   "metadata": {},
   "outputs": [],
   "source": [
    "multiply_by_five(3)"
   ]
  },
  {
   "cell_type": "code",
   "execution_count": null,
   "metadata": {},
   "outputs": [],
   "source": [
    "%%expect_exception TypeError\n",
    "\n",
    "multiply_by_five('hello')"
   ]
  },
  {
   "cell_type": "markdown",
   "metadata": {},
   "source": [
    "For more complex logic, it can be helpful to make a diagram of the branching outcomes."
   ]
  },
  {
   "cell_type": "code",
   "execution_count": null,
   "metadata": {},
   "outputs": [],
   "source": [
    "def hello_goodbye(lang, time):\n",
    "    if lang.lower() is 'english':\n",
    "        if time < 1200:\n",
    "            return 'hello'\n",
    "        return 'goodbye'\n",
    "    elif lang.lower() is 'espanol' or lang.lower() is 'spanish':\n",
    "        if time < 1200:\n",
    "            return 'hola'\n",
    "        return 'hasta luego'\n",
    "    else:\n",
    "        raise ValueError(\"Argument lang must be set to 'english', 'spanish', or 'espanol'.\")"
   ]
  },
  {
   "cell_type": "markdown",
   "metadata": {},
   "source": [
    "![logic_flowchart](images/logic_tree.png)\n"
   ]
  },
  {
   "cell_type": "markdown",
   "metadata": {},
   "source": [
    "## Gotcha: Truthiness\n"
   ]
  },
  {
   "cell_type": "markdown",
   "metadata": {},
   "source": [
    "Some objects act as False when treated as Booleans. For example, `None` (it's like a null value), empty lists and empty dictionaries."
   ]
  },
  {
   "cell_type": "code",
   "execution_count": null,
   "metadata": {},
   "outputs": [],
   "source": [
    "if None or 0 or False or [] or {}:\n",
    "    print \"Python is not Truthy\"\n",
    "else:\n",
    "    print \"Python is truthy\""
   ]
  },
  {
   "cell_type": "markdown",
   "metadata": {},
   "source": [
    "# Iteration\n"
   ]
  },
  {
   "cell_type": "markdown",
   "metadata": {},
   "source": [
    "Functions are great for packaging up code that we want to use repeatedly, but we also need a way to _execute_ code repeatedly. Repeatedly executing code is called iteration."
   ]
  },
  {
   "cell_type": "code",
   "execution_count": null,
   "metadata": {},
   "outputs": [],
   "source": [
    "i = 0\n",
    "while i < 10:\n",
    "    print i\n",
    "    i += 2"
   ]
  },
  {
   "cell_type": "markdown",
   "metadata": {},
   "source": [
    "The `while` loop looks similar to other languages, but usually we will iterate using a `for` loop. Unlike other languages, in Python a `for` loop steps through a collection of objects, setting a placeholder variable to the current object in the collection. In the example below, we step through a list of numbers, 0--4, with `x` taking on the value of each one. "
   ]
  },
  {
   "cell_type": "code",
   "execution_count": null,
   "metadata": {},
   "outputs": [],
   "source": [
    "print range(4)\n",
    "\n",
    "for x in range(4):\n",
    "    print x"
   ]
  },
  {
   "cell_type": "markdown",
   "metadata": {},
   "source": [
    "In C and Java, one iterates through an index.  In Python, one iterates through the *values* of a list, making the syntax cleaner.  In C, we would write\n",
    "```c\n",
    "int arr[10];\n",
    "for (int i=0; i < 10; i++) {\n",
    "    arr[i] = 2 * i;\n",
    "}\n",
    "```\n",
    "\n",
    "In Python, this is"
   ]
  },
  {
   "cell_type": "code",
   "execution_count": null,
   "metadata": {},
   "outputs": [],
   "source": [
    "arr1 = list()\n",
    "for i in range(10):\n",
    "    arr1.append(2 * i)"
   ]
  },
  {
   "cell_type": "markdown",
   "metadata": {},
   "source": [
    "Python also has a unique syntax for iteration called _comprehension_, which can turn a simple `for` loop into a one-liner."
   ]
  },
  {
   "cell_type": "code",
   "execution_count": null,
   "metadata": {},
   "outputs": [],
   "source": [
    "# this is a comprehension\n",
    "arr2 = [2 * i for i in range(10)]\n",
    "\n",
    "print \"arr1 =\", arr1\n",
    "print \"arr2 =\", arr2"
   ]
  },
  {
   "cell_type": "markdown",
   "metadata": {},
   "source": [
    "# Whitespace Matters\n"
   ]
  },
  {
   "cell_type": "markdown",
   "metadata": {},
   "source": [
    "In Python, indentation sets up a new context, like a function, conditional, loop, or class. For example, while a function might end with `return`, not every function will have a `return`. Python knows where the end of the body of a function is based on indentation.\n",
    "\n",
    "On the positive side, this reduces the number of lines of code (no more `{` and `}`).  On the downside, it makes multiline anonymous functions difficult (they don't exist in Python)."
   ]
  },
  {
   "cell_type": "code",
   "execution_count": null,
   "metadata": {},
   "outputs": [],
   "source": [
    "for i in range(10):\n",
    "    print i\n",
    "    \n",
    "def add(x, y):\n",
    "    x + y\n",
    "    \n",
    "class Box(object):\n",
    "    def __init__(self, inside):\n",
    "        self._inside = inside\n",
    "        \n",
    "    def value(self):\n",
    "        return self._inside"
   ]
  },
  {
   "cell_type": "markdown",
   "metadata": {},
   "source": [
    "# Putting it all together\n"
   ]
  },
  {
   "cell_type": "markdown",
   "metadata": {},
   "source": [
    "We might combine functions, iteration, and logic to perform a complex task. Let's print out the_ prime numbers up to some number, `n`. Notice that `print_primes` is very easy to understand, because we've written a helper function, `is_prime`, that checks if a single number is prime. This is called [_modular programming_](https://en.wikipedia.org/wiki/Modular_programming)."
   ]
  },
  {
   "cell_type": "code",
   "execution_count": null,
   "metadata": {},
   "outputs": [],
   "source": [
    "def is_prime(number):\n",
    "    # 1 is a special case\n",
    "    if number == 1:\n",
    "        return False\n",
    "    \n",
    "    for divisor in range(2, number):\n",
    "        if number % divisor == 0:\n",
    "            return False\n",
    "\n",
    "    return True\n",
    "\n",
    "def print_primes(n):\n",
    "    for number in range(1, n):\n",
    "        if is_prime(number):\n",
    "            print '%d is prime' % number\n",
    "\n",
    "print_primes(23)"
   ]
  },
  {
   "cell_type": "markdown",
   "metadata": {},
   "source": [
    "# Classes\n"
   ]
  },
  {
   "cell_type": "markdown",
   "metadata": {},
   "source": [
    "Finally, you can see the notebook about [Classes](IW_Classes.ipynb) to learn more about classes in Python and how they differ from other languages."
   ]
  },
  {
   "cell_type": "markdown",
   "metadata": {},
   "source": [
    "# Flexible"
   ]
  },
  {
   "cell_type": "markdown",
   "metadata": {},
   "source": [
    "It supports multiple programming paradigms ([object-oriented](https://en.wikipedia.org/wiki/Object-oriented_programming) , [imperative](https://en.wikipedia.org/wiki/Imperative_programming), [functional](https://en.wikipedia.org/wiki/Functional_programming))."
   ]
  },
  {
   "cell_type": "markdown",
   "metadata": {},
   "source": [
    "# Concise"
   ]
  },
  {
   "cell_type": "markdown",
   "metadata": {},
   "source": [
    "Not just reducing superfluous symbols, Python is more concise than C++ or Java because it abstracts many implementation details, which usually reduces code size.\n",
    "\n",
    "Opening a file in Java\n",
    "``` java\n",
    "import java.io.*;\n",
    "...\n",
    "\n",
    "BufferedReader myFile =\n",
    "    new BufferedReader(\n",
    "        new FileReader(argFilename));\n",
    "```\n",
    "        \n",
    "Opening a file in Python\n",
    "``` python\n",
    "myFile = open(argFilename)\n",
    "```"
   ]
  },
  {
   "cell_type": "markdown",
   "metadata": {},
   "source": [
    "# Great for Data Science\n"
   ]
  },
  {
   "cell_type": "markdown",
   "metadata": {},
   "source": [
    "For better or worse, data science has really gravitated towards Python as an implementation language.\n",
    "- Partially this is because it's production ready (try getting your engineers to accept R in a production system) but still relatively easy to use (try getting your data scientists to write their code in Java or C).\n",
    "- Where it lacks for speed, it can plug directly into C via Cython, which has lead to the creation of a whole host of numerical libraries (primarily [numpy](http://www.numpy.org/) and [scipy](https://www.scipy.org/)) which are the basis of important data science tools like ([pandas](http://pandas.pydata.org/) and [scikit-learn](http://scikit-learn.org/)).  We'll discuss this in more detail later. Python can also call C and Fortran code."
   ]
  },
  {
   "cell_type": "markdown",
   "metadata": {},
   "source": [
    "*Copyright &copy; 2017 The Data Incubator.  All rights reserved.*"
   ]
  }
 ],
 "metadata": {
  "kernelspec": {
   "display_name": "Python 2",
   "name": "python2"
  },
  "nbclean": true
 },
 "nbformat": 4,
 "nbformat_minor": 0
}
